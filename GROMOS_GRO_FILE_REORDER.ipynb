{
 "cells": [
  {
   "attachments": {},
   "cell_type": "markdown",
   "metadata": {},
   "source": [
    "# GROMOS_AUTOMATIC_REORDER \n",
    "#### This script is part of the project \"GROMOS_MD\"\n",
    "#### Copyright (c) 2023, Thanawat Thaingtamtanha\n",
    "#### Theoretical chemistry group, University of Siegen, Germany\n",
    "#### All rights reserved.\n",
    "The notebook needs your \"lig.gro\" and \"lig.itp\". It will read your \"lig.itp\" and rearrange the order of atom in \"lig.grp\" respect to the order of atom in \"[ atoms ]\" section in \"lig.itp\".\n",
    "After use the notebook, you will get new \"lig_reordered.gro\". Copy the new atom order in this file and paste in \"solv.gro\"."
   ]
  },
  {
   "cell_type": "code",
   "execution_count": 3,
   "metadata": {},
   "outputs": [],
   "source": [
    "# Open the \"lig.itp\" file and extract the atom order\n",
    "with open('lig.itp', 'r') as f:\n",
    "    lines = f.readlines()\n",
    "    start = lines.index('[ atoms ]\\n') + 1\n",
    "    atom_order = []\n",
    "    for line in lines[start:]:\n",
    "        if line.startswith('[ bonds ]'):\n",
    "            break  # Stop processing the file if [ bonds ] is reached\n",
    "        if line.startswith(';'):\n",
    "            continue\n",
    "        atom_data = line.split()\n",
    "        if len(atom_data) < 5:\n",
    "            raise ValueError(f'Invalid format in \"lig.itp\" line: {line}')\n",
    "        atom_order.append(atom_data[4])\n",
    "\n",
    "# Open the \"lig.gro\" file and reorder the atoms\n",
    "with open('lig.gro', 'r') as f:\n",
    "    lines = f.readlines()\n",
    "    natoms = int(lines[1])\n",
    "    if natoms != len(atom_order):\n",
    "        raise ValueError('Number of atoms in \"lig.gro\" does not match \"lig.itp\"')\n",
    "    start = 2\n",
    "    end = start + natoms\n",
    "    atoms = lines[start:end]\n",
    "    reordered_atoms = sorted(atoms, key=lambda x: atom_order.index(x.split()[1]))\n",
    "\n",
    "# Write the reordered atoms to a new file\n",
    "with open('lig_reordered.gro', 'w') as f:\n",
    "    f.write(lines[0])  # Write the title line\n",
    "    f.write(f'{natoms}\\n')  # Write the number of atoms\n",
    "    for atom in reordered_atoms:\n",
    "        f.write(atom)  # Write each reordered atom\n"
   ]
  }
 ],
 "metadata": {
  "kernelspec": {
   "display_name": "Toxicity",
   "language": "python",
   "name": "python3"
  },
  "language_info": {
   "codemirror_mode": {
    "name": "ipython",
    "version": 3
   },
   "file_extension": ".py",
   "mimetype": "text/x-python",
   "name": "python",
   "nbconvert_exporter": "python",
   "pygments_lexer": "ipython3",
   "version": "3.11.2"
  },
  "orig_nbformat": 4
 },
 "nbformat": 4,
 "nbformat_minor": 2
}
